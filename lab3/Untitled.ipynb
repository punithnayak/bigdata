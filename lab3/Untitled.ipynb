{
 "cells": [
  {
   "cell_type": "code",
   "execution_count": 9,
   "metadata": {},
   "outputs": [
    {
     "name": "stdout",
     "output_type": "stream",
     "text": [
      "Original Data:\n",
      "+-----------------------------------------------------------------------------------------------------------------------------------+\n",
      "|\"id_1\",\"id_2\",\"cmp_fname_c1\",\"cmp_fname_c2\",\"cmp_lname_c1\",\"cmp_lname_c2\",\"cmp_sex\",\"cmp_bd\",\"cmp_bm\",\"cmp_by\",\"cmp_plz\",\"is_match\"|\n",
      "+-----------------------------------------------------------------------------------------------------------------------------------+\n",
      "|37291,53113,0.833333333333333,?,1,?,1,1,1,1,0,TRUE                                                                                 |\n",
      "|39086,47614,1,?,1,?,1,1,1,1,1,TRUE                                                                                                 |\n",
      "|70031,70237,1,?,1,?,1,1,1,1,1,TRUE                                                                                                 |\n",
      "|84795,97439,1,?,1,?,1,1,1,1,1,TRUE                                                                                                 |\n",
      "|36950,42116,1,?,1,1,1,1,1,1,1,TRUE                                                                                                 |\n",
      "|42413,48491,1,?,1,?,1,1,1,1,1,TRUE                                                                                                 |\n",
      "|25965,64753,1,?,1,?,1,1,1,1,1,TRUE                                                                                                 |\n",
      "|49451,90407,1,?,1,?,1,1,1,1,0,TRUE                                                                                                 |\n",
      "|39932,40902,1,?,1,?,1,1,1,1,1,TRUE                                                                                                 |\n",
      "|46626,47940,1,?,1,?,1,1,1,1,1,TRUE                                                                                                 |\n",
      "|48948,98379,1,?,1,?,1,1,1,1,1,TRUE                                                                                                 |\n",
      "|4767,4826,1,?,1,?,1,1,1,1,1,TRUE                                                                                                   |\n",
      "|45463,69659,1,?,1,?,1,1,1,1,1,TRUE                                                                                                 |\n",
      "|11367,13169,1,?,1,?,1,1,1,1,1,TRUE                                                                                                 |\n",
      "|10782,89636,1,?,1,?,1,0,1,1,1,TRUE                                                                                                 |\n",
      "|26206,39147,1,?,1,?,1,1,1,1,1,TRUE                                                                                                 |\n",
      "|16662,27083,1,1,1,?,1,1,1,1,1,TRUE                                                                                                 |\n",
      "|18823,30204,1,1,1,?,1,1,1,1,1,TRUE                                                                                                 |\n",
      "|38545,85418,1,?,1,?,1,1,1,1,1,TRUE                                                                                                 |\n",
      "|28963,39172,1,?,1,?,1,1,1,1,1,TRUE                                                                                                 |\n",
      "+-----------------------------------------------------------------------------------------------------------------------------------+\n",
      "only showing top 20 rows\n",
      "\n"
     ]
    },
    {
     "ename": "AnalysisException",
     "evalue": "[UNRESOLVED_COLUMN.WITH_SUGGESTION] A column or function parameter with name `id_1` cannot be resolved. Did you mean one of the following? [`\"id_1\",\"id_2\",\"cmp_fname_c1\",\"cmp_fname_c2\",\"cmp_lname_c1\",\"cmp_lname_c2\",\"cmp_sex\",\"cmp_bd\",\"cmp_bm\",\"cmp_by\",\"cmp_plz\",\"is_match\"`].;\n'Project ['id_1, 'id_2, 'cmp_fname_c1, 'cmp_fname_c2, 'cmp_lname_c1, 'cmp_lname_c2, 'cmp_sex, 'cmp_bd, 'cmp_bm, 'cmp_by, 'cmp_plz]\n+- Relation [\"id_1\",\"id_2\",\"cmp_fname_c1\",\"cmp_fname_c2\",\"cmp_lname_c1\",\"cmp_lname_c2\",\"cmp_sex\",\"cmp_bd\",\"cmp_bm\",\"cmp_by\",\"cmp_plz\",\"is_match\"#162] csv\n",
     "output_type": "error",
     "traceback": [
      "\u001b[0;31m---------------------------------------------------------------------------\u001b[0m",
      "\u001b[0;31mAnalysisException\u001b[0m                         Traceback (most recent call last)",
      "\u001b[0;32m<ipython-input-9-c0084b1bfd5c>\u001b[0m in \u001b[0;36m<module>\u001b[0;34m()\u001b[0m\n\u001b[1;32m     16\u001b[0m \u001b[0;31m# Select relevant columns for preprocessing\u001b[0m\u001b[0;34m\u001b[0m\u001b[0;34m\u001b[0m\u001b[0m\n\u001b[1;32m     17\u001b[0m \u001b[0mselected_columns\u001b[0m \u001b[0;34m=\u001b[0m \u001b[0;34m[\u001b[0m\u001b[0;34m'cmp_fname_c1'\u001b[0m\u001b[0;34m,\u001b[0m \u001b[0;34m'cmp_fname_c2'\u001b[0m\u001b[0;34m,\u001b[0m \u001b[0;34m'cmp_lname_c1'\u001b[0m\u001b[0;34m,\u001b[0m \u001b[0;34m'cmp_lname_c2'\u001b[0m\u001b[0;34m,\u001b[0m \u001b[0;34m'cmp_sex'\u001b[0m\u001b[0;34m,\u001b[0m \u001b[0;34m'cmp_bd'\u001b[0m\u001b[0;34m,\u001b[0m \u001b[0;34m'cmp_bm'\u001b[0m\u001b[0;34m,\u001b[0m \u001b[0;34m'cmp_by'\u001b[0m\u001b[0;34m,\u001b[0m \u001b[0;34m'cmp_plz'\u001b[0m\u001b[0;34m]\u001b[0m\u001b[0;34m\u001b[0m\u001b[0m\n\u001b[0;32m---> 18\u001b[0;31m \u001b[0mdata_to_preprocess\u001b[0m \u001b[0;34m=\u001b[0m \u001b[0mdata\u001b[0m\u001b[0;34m.\u001b[0m\u001b[0mselect\u001b[0m\u001b[0;34m(\u001b[0m\u001b[0;34m[\u001b[0m\u001b[0;34m'id_1'\u001b[0m\u001b[0;34m,\u001b[0m \u001b[0;34m'id_2'\u001b[0m\u001b[0;34m]\u001b[0m \u001b[0;34m+\u001b[0m \u001b[0mselected_columns\u001b[0m\u001b[0;34m)\u001b[0m\u001b[0;34m\u001b[0m\u001b[0m\n\u001b[0m\u001b[1;32m     19\u001b[0m \u001b[0;34m\u001b[0m\u001b[0m\n\u001b[1;32m     20\u001b[0m \u001b[0;31m# Tokenization\u001b[0m\u001b[0;34m\u001b[0m\u001b[0;34m\u001b[0m\u001b[0m\n",
      "\u001b[0;32m~/anaconda3/lib/python3.7/site-packages/pyspark/sql/dataframe.py\u001b[0m in \u001b[0;36mselect\u001b[0;34m(self, *cols)\u001b[0m\n\u001b[1;32m   3034\u001b[0m         \u001b[0;34m+\u001b[0m\u001b[0;34m-\u001b[0m\u001b[0;34m-\u001b[0m\u001b[0;34m-\u001b[0m\u001b[0;34m-\u001b[0m\u001b[0;34m-\u001b[0m\u001b[0;34m+\u001b[0m\u001b[0;34m-\u001b[0m\u001b[0;34m-\u001b[0m\u001b[0;34m-\u001b[0m\u001b[0;34m+\u001b[0m\u001b[0;34m\u001b[0m\u001b[0m\n\u001b[1;32m   3035\u001b[0m         \"\"\"\n\u001b[0;32m-> 3036\u001b[0;31m         \u001b[0mjdf\u001b[0m \u001b[0;34m=\u001b[0m \u001b[0mself\u001b[0m\u001b[0;34m.\u001b[0m\u001b[0m_jdf\u001b[0m\u001b[0;34m.\u001b[0m\u001b[0mselect\u001b[0m\u001b[0;34m(\u001b[0m\u001b[0mself\u001b[0m\u001b[0;34m.\u001b[0m\u001b[0m_jcols\u001b[0m\u001b[0;34m(\u001b[0m\u001b[0;34m*\u001b[0m\u001b[0mcols\u001b[0m\u001b[0;34m)\u001b[0m\u001b[0;34m)\u001b[0m\u001b[0;34m\u001b[0m\u001b[0m\n\u001b[0m\u001b[1;32m   3037\u001b[0m         \u001b[0;32mreturn\u001b[0m \u001b[0mDataFrame\u001b[0m\u001b[0;34m(\u001b[0m\u001b[0mjdf\u001b[0m\u001b[0;34m,\u001b[0m \u001b[0mself\u001b[0m\u001b[0;34m.\u001b[0m\u001b[0msparkSession\u001b[0m\u001b[0;34m)\u001b[0m\u001b[0;34m\u001b[0m\u001b[0m\n\u001b[1;32m   3038\u001b[0m \u001b[0;34m\u001b[0m\u001b[0m\n",
      "\u001b[0;32m~/anaconda3/lib/python3.7/site-packages/py4j/java_gateway.py\u001b[0m in \u001b[0;36m__call__\u001b[0;34m(self, *args)\u001b[0m\n\u001b[1;32m   1321\u001b[0m         \u001b[0manswer\u001b[0m \u001b[0;34m=\u001b[0m \u001b[0mself\u001b[0m\u001b[0;34m.\u001b[0m\u001b[0mgateway_client\u001b[0m\u001b[0;34m.\u001b[0m\u001b[0msend_command\u001b[0m\u001b[0;34m(\u001b[0m\u001b[0mcommand\u001b[0m\u001b[0;34m)\u001b[0m\u001b[0;34m\u001b[0m\u001b[0m\n\u001b[1;32m   1322\u001b[0m         return_value = get_return_value(\n\u001b[0;32m-> 1323\u001b[0;31m             answer, self.gateway_client, self.target_id, self.name)\n\u001b[0m\u001b[1;32m   1324\u001b[0m \u001b[0;34m\u001b[0m\u001b[0m\n\u001b[1;32m   1325\u001b[0m         \u001b[0;32mfor\u001b[0m \u001b[0mtemp_arg\u001b[0m \u001b[0;32min\u001b[0m \u001b[0mtemp_args\u001b[0m\u001b[0;34m:\u001b[0m\u001b[0;34m\u001b[0m\u001b[0m\n",
      "\u001b[0;32m~/anaconda3/lib/python3.7/site-packages/pyspark/errors/exceptions/captured.py\u001b[0m in \u001b[0;36mdeco\u001b[0;34m(*a, **kw)\u001b[0m\n\u001b[1;32m    173\u001b[0m                 \u001b[0;31m# Hide where the exception came from that shows a non-Pythonic\u001b[0m\u001b[0;34m\u001b[0m\u001b[0;34m\u001b[0m\u001b[0m\n\u001b[1;32m    174\u001b[0m                 \u001b[0;31m# JVM exception message.\u001b[0m\u001b[0;34m\u001b[0m\u001b[0;34m\u001b[0m\u001b[0m\n\u001b[0;32m--> 175\u001b[0;31m                 \u001b[0;32mraise\u001b[0m \u001b[0mconverted\u001b[0m \u001b[0;32mfrom\u001b[0m \u001b[0;32mNone\u001b[0m\u001b[0;34m\u001b[0m\u001b[0m\n\u001b[0m\u001b[1;32m    176\u001b[0m             \u001b[0;32melse\u001b[0m\u001b[0;34m:\u001b[0m\u001b[0;34m\u001b[0m\u001b[0m\n\u001b[1;32m    177\u001b[0m                 \u001b[0;32mraise\u001b[0m\u001b[0;34m\u001b[0m\u001b[0m\n",
      "\u001b[0;31mAnalysisException\u001b[0m: [UNRESOLVED_COLUMN.WITH_SUGGESTION] A column or function parameter with name `id_1` cannot be resolved. Did you mean one of the following? [`\"id_1\",\"id_2\",\"cmp_fname_c1\",\"cmp_fname_c2\",\"cmp_lname_c1\",\"cmp_lname_c2\",\"cmp_sex\",\"cmp_bd\",\"cmp_bm\",\"cmp_by\",\"cmp_plz\",\"is_match\"`].;\n'Project ['id_1, 'id_2, 'cmp_fname_c1, 'cmp_fname_c2, 'cmp_lname_c1, 'cmp_lname_c2, 'cmp_sex, 'cmp_bd, 'cmp_bm, 'cmp_by, 'cmp_plz]\n+- Relation [\"id_1\",\"id_2\",\"cmp_fname_c1\",\"cmp_fname_c2\",\"cmp_lname_c1\",\"cmp_lname_c2\",\"cmp_sex\",\"cmp_bd\",\"cmp_bm\",\"cmp_by\",\"cmp_plz\",\"is_match\"#162] csv\n"
     ]
    }
   ],
   "source": [
    "from pyspark.sql import SparkSession\n",
    "from pyspark.ml.feature import Tokenizer\n",
    "from pyspark.sql.functions import col, udf\n",
    "from pyspark.sql.types import ArrayType, StringType\n",
    "\n",
    "# Create a Spark session\n",
    "spark = SparkSession.builder.appName(\"EntityResolutionPreprocessing\").getOrCreate()\n",
    "\n",
    "# Read CSV data\n",
    "data = spark.read.csv(\"block_1.csv\", header=True, inferSchema=True, sep='\\t')\n",
    "\n",
    "# Display the original data\n",
    "print(\"Original Data:\")\n",
    "data.show(truncate=False)\n",
    "\n",
    "# Select relevant columns for preprocessing\n",
    "selected_columns = ['cmp_fname_c1', 'cmp_fname_c2', 'cmp_lname_c1', 'cmp_lname_c2', 'cmp_sex', 'cmp_bd', 'cmp_bm', 'cmp_by', 'cmp_plz']\n",
    "data_to_preprocess = data.select(['id_1', 'id_2'] + selected_columns)\n",
    "\n",
    "# Tokenization\n",
    "for column in selected_columns:\n",
    "    tokenizer = Tokenizer(inputCol=column, outputCol=column+'_tokens')\n",
    "    data_to_preprocess = tokenizer.transform(data_to_preprocess)\n",
    "\n",
    "# Define a UDF for normalization\n",
    "def normalize_text(tokens):\n",
    "    return [str(token).lower() if token is not None else None for token in tokens]\n",
    "\n",
    "# Register the UDF\n",
    "normalize_text_udf = udf(normalize_text, ArrayType(StringType()))\n",
    "\n",
    "# Apply normalization UDF to each tokenized column\n",
    "for column in selected_columns:\n",
    "    data_to_preprocess = data_to_preprocess.withColumn(column+'_normalized_tokens', normalize_text_udf(col(column+'_tokens')))\n",
    "\n",
    "# Display the preprocessed data\n",
    "print(\"Preprocessed Data:\")\n",
    "data_to_preprocess.show(truncate=False)\n",
    "\n",
    "# Stop the Spark session\n",
    "spark.stop()\n"
   ]
  },
  {
   "cell_type": "code",
   "execution_count": null,
   "metadata": {},
   "outputs": [],
   "source": []
  }
 ],
 "metadata": {
  "kernelspec": {
   "display_name": "Python 3",
   "language": "python",
   "name": "python3"
  },
  "language_info": {
   "codemirror_mode": {
    "name": "ipython",
    "version": 3
   },
   "file_extension": ".py",
   "mimetype": "text/x-python",
   "name": "python",
   "nbconvert_exporter": "python",
   "pygments_lexer": "ipython3",
   "version": "3.7.0"
  }
 },
 "nbformat": 4,
 "nbformat_minor": 2
}
