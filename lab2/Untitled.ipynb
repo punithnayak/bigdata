{
 "cells": [
  {
   "cell_type": "code",
   "execution_count": 1,
   "metadata": {},
   "outputs": [
    {
     "name": "stderr",
     "output_type": "stream",
     "text": [
      "/home/lplab/anaconda3/lib/python3.7/site-packages/pyspark/context.py:317: FutureWarning: Python 3.7 support is deprecated in Spark 3.4.\n",
      "  warnings.warn(\"Python 3.7 support is deprecated in Spark 3.4.\", FutureWarning)\n"
     ]
    },
    {
     "name": "stdout",
     "output_type": "stream",
     "text": [
      "Original DataFrame:\n",
      "+-------+---+\n",
      "|   Name|Age|\n",
      "+-------+---+\n",
      "|  Alice| 25|\n",
      "|    Bob| 30|\n",
      "|Charlie| 22|\n",
      "|  David| 35|\n",
      "+-------+---+\n",
      "\n",
      "\n",
      "Transformed DataFrame:\n",
      "+-----+---+----------+\n",
      "| Name|Age|AgePlusTwo|\n",
      "+-----+---+----------+\n",
      "|  Bob| 30|        32|\n",
      "|David| 35|        37|\n",
      "+-----+---+----------+\n",
      "\n"
     ]
    }
   ],
   "source": [
    "from pyspark.sql import SparkSession\n",
    "from pyspark.sql.functions import col\n",
    "\n",
    "# Create a Spark session\n",
    "spark = SparkSession.builder.appName(\"TransformationsExample\").getOrCreate()\n",
    "\n",
    "# Sample data\n",
    "data = [(\"Alice\", 25), (\"Bob\", 30), (\"Charlie\", 22), (\"David\", 35)]\n",
    "columns = [\"Name\", \"Age\"]\n",
    "\n",
    "# Create a DataFrame\n",
    "df = spark.createDataFrame(data, columns)\n",
    "\n",
    "# Display the original DataFrame\n",
    "print(\"Original DataFrame:\")\n",
    "df.show()\n",
    "\n",
    "# Apply transformations: filter and withColumn\n",
    "\n",
    "# 1. Filter rows where age is greater than 25\n",
    "filtered_df = df.filter(col(\"Age\") > 25)\n",
    "\n",
    "# 2. Add a new column \"AgePlusTwo\" with each age increased by 2\n",
    "transformed_df = filtered_df.withColumn(\"AgePlusTwo\", col(\"Age\") + 2)\n",
    "\n",
    "# Display the transformed DataFrame\n",
    "print(\"\\nTransformed DataFrame:\")\n",
    "transformed_df.show()\n",
    "\n",
    "# Stop the Spark session\n",
    "spark.stop()\n"
   ]
  },
  {
   "cell_type": "code",
   "execution_count": 2,
   "metadata": {},
   "outputs": [
    {
     "name": "stderr",
     "output_type": "stream",
     "text": [
      "/home/lplab/anaconda3/lib/python3.7/site-packages/pyspark/context.py:317: FutureWarning: Python 3.7 support is deprecated in Spark 3.4.\n",
      "  warnings.warn(\"Python 3.7 support is deprecated in Spark 3.4.\", FutureWarning)\n"
     ]
    },
    {
     "name": "stdout",
     "output_type": "stream",
     "text": [
      "Original DataFrame:\n",
      "+-------+---+\n",
      "|   Name|Age|\n",
      "+-------+---+\n",
      "|  Alice| 25|\n",
      "|    Bob| 30|\n",
      "|Charlie| 22|\n",
      "|  David| 35|\n",
      "+-------+---+\n",
      "\n",
      "\n",
      "Number of rows in the DataFrame: 4\n",
      "\n",
      "First 2 rows of the DataFrame:\n",
      "+-----+---+\n",
      "| Name|Age|\n",
      "+-----+---+\n",
      "|Alice| 25|\n",
      "|  Bob| 30|\n",
      "+-----+---+\n",
      "only showing top 2 rows\n",
      "\n"
     ]
    }
   ],
   "source": [
    "from pyspark.sql import SparkSession\n",
    "\n",
    "# Create a Spark session\n",
    "spark = SparkSession.builder.appName(\"ActionsExample\").getOrCreate()\n",
    "\n",
    "# Sample data\n",
    "data = [(\"Alice\", 25), (\"Bob\", 30), (\"Charlie\", 22), (\"David\", 35)]\n",
    "columns = [\"Name\", \"Age\"]\n",
    "\n",
    "# Create a DataFrame\n",
    "df = spark.createDataFrame(data, columns)\n",
    "\n",
    "# Display the original DataFrame\n",
    "print(\"Original DataFrame:\")\n",
    "df.show()\n",
    "\n",
    "# Perform actions: count and show\n",
    "\n",
    "# 1. Count the number of rows in the DataFrame\n",
    "row_count = df.count()\n",
    "print(\"\\nNumber of rows in the DataFrame: {}\".format(row_count))\n",
    "\n",
    "# 2. Show the first 2 rows of the DataFrame\n",
    "print(\"\\nFirst 2 rows of the DataFrame:\")\n",
    "df.show(2)\n",
    "\n",
    "# Stop the Spark session\n",
    "spark.stop()\n"
   ]
  },
  {
   "cell_type": "code",
   "execution_count": 3,
   "metadata": {},
   "outputs": [
    {
     "name": "stderr",
     "output_type": "stream",
     "text": [
      "/home/lplab/anaconda3/lib/python3.7/site-packages/pyspark/context.py:317: FutureWarning: Python 3.7 support is deprecated in Spark 3.4.\n",
      "  warnings.warn(\"Python 3.7 support is deprecated in Spark 3.4.\", FutureWarning)\n"
     ]
    },
    {
     "name": "stdout",
     "output_type": "stream",
     "text": [
      "Original DataFrame:\n",
      "+-------+---+\n",
      "|   Name|Age|\n",
      "+-------+---+\n",
      "|  Alice| 25|\n",
      "|    Bob| 30|\n",
      "|Charlie| 22|\n",
      "|  David| 35|\n",
      "+-------+---+\n",
      "\n",
      "\n",
      "Total sum of ages: 112\n",
      "Average age: 28.00\n"
     ]
    }
   ],
   "source": [
    "from pyspark.sql import SparkSession\n",
    "from pyspark.sql.functions import col, avg, sum\n",
    "\n",
    "# Create a Spark session\n",
    "spark = SparkSession.builder.appName(\"AggregationsExample\").getOrCreate()\n",
    "\n",
    "# Sample data\n",
    "data = [(\"Alice\", 25), (\"Bob\", 30), (\"Charlie\", 22), (\"David\", 35)]\n",
    "columns = [\"Name\", \"Age\"]\n",
    "\n",
    "# Create a DataFrame\n",
    "df = spark.createDataFrame(data, columns)\n",
    "\n",
    "# Display the original DataFrame\n",
    "print(\"Original DataFrame:\")\n",
    "df.show()\n",
    "\n",
    "# Perform basic aggregations: sum and average\n",
    "\n",
    "# 1. Calculate the sum of ages\n",
    "total_age = df.agg(sum(\"Age\").alias(\"TotalAge\")).collect()[0][\"TotalAge\"]\n",
    "print(\"\\nTotal sum of ages: {}\".format(total_age))\n",
    "\n",
    "# 2. Calculate the average age\n",
    "average_age = df.agg(avg(\"Age\").alias(\"AverageAge\")).collect()[0][\"AverageAge\"]\n",
    "print(\"Average age: {:.2f}\".format(average_age))\n",
    "\n",
    "# Stop the Spark session\n",
    "spark.stop()\n"
   ]
  },
  {
   "cell_type": "code",
   "execution_count": 4,
   "metadata": {},
   "outputs": [
    {
     "name": "stderr",
     "output_type": "stream",
     "text": [
      "/home/lplab/anaconda3/lib/python3.7/site-packages/pyspark/context.py:317: FutureWarning: Python 3.7 support is deprecated in Spark 3.4.\n",
      "  warnings.warn(\"Python 3.7 support is deprecated in Spark 3.4.\", FutureWarning)\n"
     ]
    },
    {
     "name": "stdout",
     "output_type": "stream",
     "text": [
      "Original DataFrame:\n",
      "+-------+---+\n",
      "|   Name|Age|\n",
      "+-------+---+\n",
      "|  Alice| 25|\n",
      "|    Bob| 30|\n",
      "|Charlie| 22|\n",
      "|  David| 35|\n",
      "+-------+---+\n",
      "\n"
     ]
    }
   ],
   "source": [
    "from pyspark.sql import SparkSession\n",
    "\n",
    "# Create a Spark session\n",
    "spark = SparkSession.builder.appName(\"WriteToCSVExample\").getOrCreate()\n",
    "\n",
    "# Sample data\n",
    "data = [(\"Alice\", 25), (\"Bob\", 30), (\"Charlie\", 22), (\"David\", 35)]\n",
    "columns = [\"Name\", \"Age\"]\n",
    "\n",
    "# Create a DataFrame\n",
    "df = spark.createDataFrame(data, columns)\n",
    "\n",
    "# Display the original DataFrame\n",
    "print(\"Original DataFrame:\")\n",
    "df.show()\n",
    "\n",
    "# Write DataFrame to a CSV file\n",
    "output_path = \"output_csv\"\n",
    "df.write.csv(output_path, header=True, mode=\"overwrite\")\n",
    "\n",
    "# Stop the Spark session\n",
    "spark.stop()\n"
   ]
  },
  {
   "cell_type": "code",
   "execution_count": 5,
   "metadata": {},
   "outputs": [
    {
     "name": "stderr",
     "output_type": "stream",
     "text": [
      "/home/lplab/anaconda3/lib/python3.7/site-packages/pyspark/context.py:317: FutureWarning: Python 3.7 support is deprecated in Spark 3.4.\n",
      "  warnings.warn(\"Python 3.7 support is deprecated in Spark 3.4.\", FutureWarning)\n"
     ]
    },
    {
     "name": "stdout",
     "output_type": "stream",
     "text": [
      "Original DataFrame:\n",
      "+------------------+\n",
      "|text              |\n",
      "+------------------+\n",
      "|Hello world       |\n",
      "|PySpark is awesome|\n",
      "|Spark is powerful |\n",
      "+------------------+\n",
      "\n",
      "\n",
      "Word Count Results:\n",
      "+--------+-----+\n",
      "|    word|count|\n",
      "+--------+-----+\n",
      "|   Hello|    1|\n",
      "|   world|    1|\n",
      "|      is|    2|\n",
      "| PySpark|    1|\n",
      "| awesome|    1|\n",
      "|powerful|    1|\n",
      "|   Spark|    1|\n",
      "+--------+-----+\n",
      "\n"
     ]
    }
   ],
   "source": [
    "from pyspark.sql import SparkSession\n",
    "from pyspark.sql.functions import split, explode, count\n",
    "\n",
    "# Create a Spark session\n",
    "spark = SparkSession.builder.appName(\"WordCountExample\").getOrCreate()\n",
    "\n",
    "# Sample data (text)\n",
    "text_data = [\"Hello world\", \"PySpark is awesome\", \"Spark is powerful\"]\n",
    "\n",
    "# Create a DataFrame from the text data\n",
    "df = spark.createDataFrame([(line,) for line in text_data], [\"text\"])\n",
    "\n",
    "# Display the original DataFrame\n",
    "print(\"Original DataFrame:\")\n",
    "df.show(truncate=False)\n",
    "\n",
    "# Perform word count using DataFrame transformations and actions\n",
    "\n",
    "# 1. Split the text into words\n",
    "df_words = df.select(explode(split(df[\"text\"], \" \")).alias(\"word\"))\n",
    "\n",
    "# 2. Perform word count\n",
    "word_count = df_words.groupBy(\"word\").agg(count(\"word\").alias(\"count\"))\n",
    "\n",
    "# Display the word count results\n",
    "print(\"\\nWord Count Results:\")\n",
    "word_count.show()\n",
    "\n",
    "# Stop the Spark session\n",
    "spark.stop()\n"
   ]
  },
  {
   "cell_type": "code",
   "execution_count": 6,
   "metadata": {},
   "outputs": [
    {
     "name": "stderr",
     "output_type": "stream",
     "text": [
      "/home/lplab/anaconda3/lib/python3.7/site-packages/pyspark/context.py:317: FutureWarning: Python 3.7 support is deprecated in Spark 3.4.\n",
      "  warnings.warn(\"Python 3.7 support is deprecated in Spark 3.4.\", FutureWarning)\n"
     ]
    },
    {
     "name": "stdout",
     "output_type": "stream",
     "text": [
      "Word Count Results:\n",
      "awesome: 1\n",
      "powerful: 1\n",
      "Hello: 1\n",
      "PySpark: 1\n",
      "Spark: 1\n",
      "world: 1\n",
      "is: 2\n"
     ]
    }
   ],
   "source": [
    "from pyspark import SparkContext, SparkConf\n",
    "\n",
    "# Create a Spark configuration and context\n",
    "conf = SparkConf().setAppName(\"WordCountExampleRDD\")\n",
    "sc = SparkContext(conf=conf)\n",
    "\n",
    "# Sample data (text)\n",
    "text_data = [\"Hello world\", \"PySpark is awesome\", \"Spark is powerful\"]\n",
    "\n",
    "# Create an RDD from the text data\n",
    "rdd = sc.parallelize(text_data)\n",
    "\n",
    "# Perform word count using RDD transformations and actions\n",
    "\n",
    "# 1. Split the text into words\n",
    "words = rdd.flatMap(lambda line: line.split(\" \"))\n",
    "\n",
    "# 2. Assign a count of 1 to each word\n",
    "word_counts = words.map(lambda word: (word, 1))\n",
    "\n",
    "# 3. Perform word count by summing up the counts\n",
    "word_count_results = word_counts.reduceByKey(lambda x, y: x + y)\n",
    "\n",
    "# Display the word count results\n",
    "print(\"Word Count Results:\")\n",
    "for word, count in word_count_results.collect():\n",
    "    print(f\"{word}: {count}\")\n",
    "\n",
    "# Stop the Spark context\n",
    "sc.stop()\n"
   ]
  },
  {
   "cell_type": "code",
   "execution_count": null,
   "metadata": {},
   "outputs": [],
   "source": []
  }
 ],
 "metadata": {
  "kernelspec": {
   "display_name": "Python 3",
   "language": "python",
   "name": "python3"
  },
  "language_info": {
   "codemirror_mode": {
    "name": "ipython",
    "version": 3
   },
   "file_extension": ".py",
   "mimetype": "text/x-python",
   "name": "python",
   "nbconvert_exporter": "python",
   "pygments_lexer": "ipython3",
   "version": "3.7.0"
  }
 },
 "nbformat": 4,
 "nbformat_minor": 2
}
