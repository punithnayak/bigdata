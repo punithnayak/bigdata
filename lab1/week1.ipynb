{
 "cells": [
  {
   "cell_type": "code",
   "execution_count": 1,
   "metadata": {},
   "outputs": [
    {
     "name": "stderr",
     "output_type": "stream",
     "text": [
      "/home/lplab/anaconda3/lib/python3.7/site-packages/pyspark/context.py:317: FutureWarning: Python 3.7 support is deprecated in Spark 3.4.\n",
      "  warnings.warn(\"Python 3.7 support is deprecated in Spark 3.4.\", FutureWarning)\n"
     ]
    },
    {
     "name": "stdout",
     "output_type": "stream",
     "text": [
      "+-------+-------+\n",
      "|integer|squared|\n",
      "+-------+-------+\n",
      "|      1|    1.0|\n",
      "|      2|    4.0|\n",
      "|      3|    9.0|\n",
      "|      4|   16.0|\n",
      "|      5|   25.0|\n",
      "+-------+-------+\n",
      "\n"
     ]
    }
   ],
   "source": [
    "#q1\n",
    "from pyspark.sql import SparkSession\n",
    "from pyspark.sql.functions import col\n",
    "\n",
    "# Initialize Spark session\n",
    "spark = SparkSession.builder.appName(\"SquareIntegers\").getOrCreate()\n",
    "\n",
    "# Create a DataFrame with a column of integers\n",
    "data = [(1,), (2,), (3,), (4,), (5,)]\n",
    "df = spark.createDataFrame(data, [\"integer\"])\n",
    "\n",
    "# Square the values in the \"integer\" column\n",
    "squared_df = df.withColumn(\"squared\", col(\"integer\") ** 2)\n",
    "\n",
    "# Show the result\n",
    "squared_df.show()\n"
   ]
  },
  {
   "cell_type": "code",
   "execution_count": 3,
   "metadata": {},
   "outputs": [
    {
     "name": "stdout",
     "output_type": "stream",
     "text": [
      "+---------+\n",
      "|max_value|\n",
      "+---------+\n",
      "|       30|\n",
      "+---------+\n",
      "\n"
     ]
    }
   ],
   "source": [
    "#q2\n",
    "from pyspark.sql import SparkSession\n",
    "from pyspark.sql.functions import max\n",
    "\n",
    "# Initialize Spark session\n",
    "spark = SparkSession.builder.appName(\"MaxNumber\").getOrCreate()\n",
    "\n",
    "# Create a DataFrame with a column of numbers\n",
    "data = [(10,), (25,), (8,), (15,), (30,)]\n",
    "df = spark.createDataFrame(data, [\"number\"])\n",
    "\n",
    "# Find the maximum value in the \"number\" column\n",
    "max_value = df.agg(max(\"number\").alias(\"max_value\"))\n",
    "\n",
    "# Show the result\n",
    "max_value.show()\n"
   ]
  },
  {
   "cell_type": "code",
   "execution_count": 4,
   "metadata": {},
   "outputs": [
    {
     "name": "stdout",
     "output_type": "stream",
     "text": [
      "+-------------+\n",
      "|average_value|\n",
      "+-------------+\n",
      "|         17.6|\n",
      "+-------------+\n",
      "\n"
     ]
    }
   ],
   "source": [
    "#q3\n",
    "from pyspark.sql import SparkSession\n",
    "from pyspark.sql.functions import avg\n",
    "\n",
    "# Initialize Spark session\n",
    "spark = SparkSession.builder.appName(\"AverageNumbers\").getOrCreate()\n",
    "\n",
    "# Create a DataFrame with a column of numbers\n",
    "data = [(10,), (25,), (8,), (15,), (30,)]\n",
    "df = spark.createDataFrame(data, [\"number\"])\n",
    "\n",
    "# Find the average value in the \"number\" column\n",
    "average_value = df.agg(avg(\"number\").alias(\"average_value\"))\n",
    "\n",
    "# Show the result\n",
    "average_value.show()\n"
   ]
  },
  {
   "cell_type": "code",
   "execution_count": 10,
   "metadata": {},
   "outputs": [
    {
     "name": "stdout",
     "output_type": "stream",
     "text": [
      "+-----+---+----------------+\n",
      "| name|age|     course_name|\n",
      "+-----+---+----------------+\n",
      "| John| 20|     Mathematics|\n",
      "|Alice| 22|         Physics|\n",
      "|  Bob| 21|Computer Science|\n",
      "|  Eva| 23|       Chemistry|\n",
      "| Mike| 19|         History|\n",
      "+-----+---+----------------+\n",
      "\n"
     ]
    }
   ],
   "source": [
    "#q4\n",
    "from pyspark.sql import SparkSession\n",
    "\n",
    "# Initialize Spark session\n",
    "spark = SparkSession.builder.appName(\"ReadCSV\").getOrCreate()\n",
    "\n",
    "# Read a CSV file into a DataFrame\n",
    "file_path = \"output-onlinetools.csv\"\n",
    "df = spark.read.csv(file_path, header=True, inferSchema=True)\n",
    "\n",
    "# Show the DataFrame\n",
    "df.show()\n"
   ]
  },
  {
   "cell_type": "markdown",
   "metadata": {},
   "source": [
    "#5\n"
   ]
  },
  {
   "cell_type": "code",
   "execution_count": 11,
   "metadata": {},
   "outputs": [
    {
     "name": "stdout",
     "output_type": "stream",
     "text": [
      "+-----+---+----------------+\n",
      "| name|age|     course_name|\n",
      "+-----+---+----------------+\n",
      "| John| 20|     Mathematics|\n",
      "|Alice| 22|         Physics|\n",
      "|  Bob| 21|Computer Science|\n",
      "|  Eva| 23|       Chemistry|\n",
      "| Mike| 19|         History|\n",
      "+-----+---+----------------+\n",
      "\n",
      "root\n",
      " |-- name: string (nullable = true)\n",
      " |-- age: integer (nullable = true)\n",
      " |-- course_name: string (nullable = true)\n",
      "\n"
     ]
    }
   ],
   "source": [
    "#q5\n",
    "# Display the first few rows\n",
    "df.show()\n",
    "\n",
    "# Display the schema\n",
    "df.printSchema()\n"
   ]
  },
  {
   "cell_type": "code",
   "execution_count": 13,
   "metadata": {},
   "outputs": [
    {
     "name": "stdout",
     "output_type": "stream",
     "text": [
      "+-------+-----------+\n",
      "|summary|course_name|\n",
      "+-------+-----------+\n",
      "|  count|          5|\n",
      "|   mean|       null|\n",
      "| stddev|       null|\n",
      "|    min|  Chemistry|\n",
      "|    max|    Physics|\n",
      "+-------+-----------+\n",
      "\n"
     ]
    }
   ],
   "source": [
    "# Calculate basic summary statistics for a specific column\n",
    "column_name = \"course_name\"\n",
    "summary_stats = df.describe(column_name)\n",
    "\n",
    "# Show the result\n",
    "summary_stats.show()\n"
   ]
  },
  {
   "cell_type": "code",
   "execution_count": null,
   "metadata": {},
   "outputs": [],
   "source": []
  }
 ],
 "metadata": {
  "kernelspec": {
   "display_name": "Python 3",
   "language": "python",
   "name": "python3"
  },
  "language_info": {
   "codemirror_mode": {
    "name": "ipython",
    "version": 3
   },
   "file_extension": ".py",
   "mimetype": "text/x-python",
   "name": "python",
   "nbconvert_exporter": "python",
   "pygments_lexer": "ipython3",
   "version": "3.7.0"
  }
 },
 "nbformat": 4,
 "nbformat_minor": 2
}
